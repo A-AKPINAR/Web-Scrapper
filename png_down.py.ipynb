{
 "cells": [
  {
   "cell_type": "code",
   "execution_count": 4,
   "metadata": {},
   "outputs": [],
   "source": [
    "import requests\n",
    "from bs4 import BeautifulSoup"
   ]
  },
  {
   "cell_type": "code",
   "execution_count": 5,
   "metadata": {},
   "outputs": [],
   "source": [
    "site_map = \"https://www.pngmart.com/sitemap.xml\"\n",
    "response = requests.get(site_map)\n",
    "xml= response.text"
   ]
  },
  {
   "cell_type": "code",
   "execution_count": 6,
   "metadata": {},
   "outputs": [],
   "source": [
    "soup = BeautifulSoup(xml, 'lxml')\n",
    "site_maps = []\n",
    "for loc in soup.find_all('loc'):\n",
    "    url = loc.text\n",
    "    if 'posts' in url: \n",
    "        site_maps.append(url)\n",
    " "
   ]
  },
  {
   "cell_type": "code",
   "execution_count": 7,
   "metadata": {},
   "outputs": [],
   "source": [
    "sites_map_1 = site_maps[1]"
   ]
  },
  {
   "cell_type": "code",
   "execution_count": 8,
   "metadata": {},
   "outputs": [],
   "source": [
    "response = requests.get(sites_map_1)\n",
    "soup2 = BeautifulSoup(response.text, 'lxml')"
   ]
  },
  {
   "cell_type": "code",
   "execution_count": 9,
   "metadata": {},
   "outputs": [],
   "source": [
    "master_list = []\n",
    "for loc in soup2.find_all('loc'):\n",
    "    url = loc.text\n",
    "    master_list.append(url)"
   ]
  },
  {
   "cell_type": "code",
   "execution_count": 10,
   "metadata": {},
   "outputs": [
    {
     "name": "stdout",
     "output_type": "stream",
     "text": [
      "https://www.pngmart.com/image/730835\n",
      "https://www.pngmart.com/image/730833\n",
      "https://www.pngmart.com/image/730831\n",
      "https://www.pngmart.com/image/730829\n",
      "https://www.pngmart.com/image/730827\n",
      "https://www.pngmart.com/image/730825\n",
      "https://www.pngmart.com/image/730823\n",
      "https://www.pngmart.com/image/730821\n",
      "https://www.pngmart.com/image/730819\n",
      "https://www.pngmart.com/image/730817\n",
      "https://www.pngmart.com/image/730815\n",
      "https://www.pngmart.com/image/730813\n",
      "https://www.pngmart.com/image/730811\n",
      "https://www.pngmart.com/image/730809\n",
      "https://www.pngmart.com/image/730807\n",
      "https://www.pngmart.com/image/730805\n",
      "https://www.pngmart.com/image/730803\n",
      "https://www.pngmart.com/image/730801\n",
      "https://www.pngmart.com/image/730799\n"
     ]
    }
   ],
   "source": [
    "for img_url in master_list[1:20]:\n",
    "    print(img_url)\n",
    "    response = requests.get(img_url)\n",
    "    soup = BeautifulSoup(response.text, 'html.parser')\n",
    "    png = soup.find('a', {'class': 'download'})['href']\n",
    "    image = requests.get(png)\n",
    "    img_title= img_url.split('/')[-1] + '-' + png.split('/')[-1]\n",
    "    \n",
    " \n",
    "    with open (img_title, 'wb') as file:\n",
    "        file.write(image.content)"
   ]
  },
  {
   "cell_type": "code",
   "execution_count": null,
   "metadata": {},
   "outputs": [],
   "source": []
  }
 ],
 "metadata": {
  "kernelspec": {
   "display_name": "Python 3",
   "language": "python",
   "name": "python3"
  },
  "language_info": {
   "codemirror_mode": {
    "name": "ipython",
    "version": 3
   },
   "file_extension": ".py",
   "mimetype": "text/x-python",
   "name": "python",
   "nbconvert_exporter": "python",
   "pygments_lexer": "ipython3",
   "version": "3.7.6"
  }
 },
 "nbformat": 4,
 "nbformat_minor": 4
}
